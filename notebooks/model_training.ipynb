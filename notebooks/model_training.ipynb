{
  "cells": [
    {
      "cell_type": "code",
      "execution_count": null,
      "metadata": {
        "vscode": {
          "languageId": "plaintext"
        }
      },
      "outputs": [],
      "source": [
        "# Sign Language Recognition - Model Training\n",
        "\n",
        "This notebook demonstrates the process of training a sign language recognition model using landmarks extracted from MediaPipe Hands.\n",
        "\n",
        "We'll explore different classifiers and hyperparameter tuning to achieve the best performance.\n"
      ]
    },
    {
      "cell_type": "code",
      "execution_count": null,
      "metadata": {
        "vscode": {
          "languageId": "plaintext"
        }
      },
      "outputs": [],
      "source": [
        "## 1. Import Libraries\n"
      ]
    },
    {
      "cell_type": "code",
      "execution_count": null,
      "metadata": {},
      "outputs": [],
      "source": [
        "import os\n",
        "import sys\n",
        "import numpy as np\n",
        "import pandas as pd\n",
        "import matplotlib.pyplot as plt\n",
        "import seaborn as sns\n",
        "from sklearn.model_selection import train_test_split, GridSearchCV\n",
        "from sklearn.preprocessing import LabelEncoder\n",
        "from sklearn.ensemble import RandomForestClassifier\n",
        "from sklearn.metrics import classification_report, confusion_matrix, accuracy_score\n",
        "import joblib\n",
        "\n",
        "# Add parent directory to path so we can import our modules\n",
        "sys.path.append('..')\n",
        "from utils import load_landmarks_from_csv, plot_confusion_matrix\n",
        "\n",
        "# Set random seed for reproducibility\n",
        "np.random.seed(42)\n"
      ]
    },
    {
      "cell_type": "code",
      "execution_count": null,
      "metadata": {},
      "outputs": [],
      "source": [
        "## 2. Load and Explore Data\n",
        "\n",
        "We'll load the landmark data that was collected using our data collection tool.\n"
      ]
    },
    {
      "cell_type": "code",
      "execution_count": null,
      "metadata": {},
      "outputs": [],
      "source": [
        "# Path to the landmarks CSV file\n",
        "landmarks_file = '../data/landmarks/landmarks_20231015_120000.csv'  # Update this path\n",
        "\n",
        "# Check if the file exists\n",
        "if not os.path.exists(landmarks_file):\n",
        "    print(f\"File not found: {landmarks_file}\")\n",
        "    print(\"Please collect data first using the data_collection.py script.\")\n",
        "else:\n",
        "    # Load the data\n",
        "    X, y = load_landmarks_from_csv(landmarks_file)\n",
        "    print(f\"Data loaded successfully! X shape: {X.shape}, y shape: {y.shape}\")\n"
      ]
    },
    {
      "cell_type": "code",
      "execution_count": null,
      "metadata": {},
      "outputs": [],
      "source": [
        "### 2.1 Explore Class Distribution\n"
      ]
    },
    {
      "cell_type": "code",
      "execution_count": null,
      "metadata": {},
      "outputs": [],
      "source": [
        "# Get class distribution\n",
        "classes, counts = np.unique(y, return_counts=True)\n",
        "class_distribution = pd.DataFrame({'Class': classes, 'Count': counts})\n",
        "\n",
        "# Sort by class\n",
        "class_distribution = class_distribution.sort_values('Class')\n",
        "\n",
        "# Plot class distribution\n",
        "plt.figure(figsize=(12, 6))\n",
        "sns.barplot(x='Class', y='Count', data=class_distribution)\n",
        "plt.title('Class Distribution')\n",
        "plt.xticks(rotation=45)\n",
        "plt.tight_layout()\n",
        "plt.show()\n",
        "\n",
        "# Print summary\n",
        "print(f\"Total samples: {len(y)}\")\n",
        "print(f\"Number of classes: {len(classes)}\")\n",
        "print(f\"Classes: {', '.join(classes)}\")\n"
      ]
    },
    {
      "cell_type": "code",
      "execution_count": null,
      "metadata": {},
      "outputs": [],
      "source": [
        "## 3. Preprocess Data\n"
      ]
    },
    {
      "cell_type": "code",
      "execution_count": null,
      "metadata": {},
      "outputs": [],
      "source": [
        "# Encode labels\n",
        "label_encoder = LabelEncoder()\n",
        "y_encoded = label_encoder.fit_transform(y)\n",
        "\n",
        "# Split data into training and testing sets\n",
        "X_train, X_test, y_train, y_test = train_test_split(\n",
        "    X, y_encoded, test_size=0.2, random_state=42, stratify=y_encoded\n",
        ")\n",
        "\n",
        "print(f\"Training set: {X_train.shape[0]} samples\")\n",
        "print(f\"Testing set: {X_test.shape[0]} samples\")\n"
      ]
    },
    {
      "cell_type": "code",
      "execution_count": null,
      "metadata": {},
      "outputs": [],
      "source": [
        "## 4. Train a Random Forest Classifier\n",
        "\n",
        "We'll start with a simple Random Forest classifier with default parameters.\n"
      ]
    },
    {
      "cell_type": "code",
      "execution_count": null,
      "metadata": {},
      "outputs": [],
      "source": [
        "# Initialize the model\n",
        "rf_model = RandomForestClassifier(n_estimators=100, random_state=42)\n",
        "\n",
        "# Train the model\n",
        "%time rf_model.fit(X_train, y_train)\n",
        "\n",
        "# Make predictions\n",
        "y_pred = rf_model.predict(X_test)\n",
        "\n",
        "# Calculate accuracy\n",
        "accuracy = accuracy_score(y_test, y_pred)\n",
        "print(f\"Accuracy: {accuracy:.4f}\")\n"
      ]
    },
    {
      "cell_type": "code",
      "execution_count": null,
      "metadata": {},
      "outputs": [],
      "source": [
        "### 4.1 Evaluate Model Performance\n"
      ]
    },
    {
      "cell_type": "code",
      "execution_count": null,
      "metadata": {},
      "outputs": [],
      "source": [
        "# Print classification report\n",
        "print(\"Classification Report:\\n\")\n",
        "print(classification_report(y_test, y_pred, target_names=label_encoder.classes_))\n",
        "\n",
        "# Plot confusion matrix\n",
        "plt.figure(figsize=(12, 10))\n",
        "plot_confusion_matrix(\n",
        "    y_test,\n",
        "    y_pred,\n",
        "    label_encoder.classes_,\n",
        "    normalize=True,\n",
        "    title='Normalized Confusion Matrix'\n",
        ")\n",
        "plt.tight_layout()\n",
        "plt.show()\n"
      ]
    }
  ],
  "metadata": {
    "language_info": {
      "name": "python"
    }
  },
  "nbformat": 4,
  "nbformat_minor": 2
}
